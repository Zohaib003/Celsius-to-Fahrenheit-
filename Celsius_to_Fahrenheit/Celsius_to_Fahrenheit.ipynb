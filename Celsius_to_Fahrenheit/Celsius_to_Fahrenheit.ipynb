{
  "nbformat": 4,
  "nbformat_minor": 0,
  "metadata": {
    "colab": {
      "name": "Celsius to Fahrenheit.ipynb",
      "provenance": [],
      "collapsed_sections": []
    },
    "kernelspec": {
      "name": "python3",
      "display_name": "Python 3"
    },
    "language_info": {
      "name": "python"
    },
    "accelerator": "GPU"
  },
  "cells": [
    {
      "cell_type": "markdown",
      "source": [
        "##Importing libraries \n",
        "Set tenserflow vrbosity for logging eroors only."
      ],
      "metadata": {
        "id": "LiqUBOjGj83v"
      }
    },
    {
      "cell_type": "code",
      "execution_count": 33,
      "metadata": {
        "id": "Y2AOaI5x-akk"
      },
      "outputs": [],
      "source": [
        "import tensorflow as tf\n",
        "tf.compat.v1.logging.set_verbosity(tf.compat.v1.logging.ERROR)\n",
        "import numpy as np\n"
      ]
    },
    {
      "cell_type": "code",
      "source": [
        "calcious = np.array([-40,-10,0,8,15,22,38],dtype=float)\n",
        "farenhite = np.array([-40,14,32,46,59,72,100],dtype=float)\n",
        "\n",
        "for i,j in enumerate(calcious):\n",
        "  print(f\"{j} is maped to :  {farenhite[i]}\")"
      ],
      "metadata": {
        "id": "KQcvrQnEEgPE",
        "colab": {
          "base_uri": "https://localhost:8080/"
        },
        "outputId": "6cdac2f2-4766-4656-b3d0-cbab1f4668a2"
      },
      "execution_count": 34,
      "outputs": [
        {
          "output_type": "stream",
          "name": "stdout",
          "text": [
            "-40.0 is maped to :  -40.0\n",
            "-10.0 is maped to :  14.0\n",
            "0.0 is maped to :  32.0\n",
            "8.0 is maped to :  46.0\n",
            "15.0 is maped to :  59.0\n",
            "22.0 is maped to :  72.0\n",
            "38.0 is maped to :  100.0\n"
          ]
        }
      ]
    },
    {
      "cell_type": "markdown",
      "source": [
        "##**Building layers**\n"
      ],
      "metadata": {
        "id": "CjDettnLeOiM"
      }
    },
    {
      "cell_type": "code",
      "source": [
        "model = tf.keras.Sequential()\n",
        "model.add(tf.keras.Input(1))\n",
        "model.add(tf.keras.layers.Dense(units=1))"
      ],
      "metadata": {
        "id": "_HtsFCQDG32H"
      },
      "execution_count": 35,
      "outputs": []
    },
    {
      "cell_type": "markdown",
      "source": [
        "##COmpile model with Optimizer and loss function\n",
        "\n",
        "\n",
        "*   Loss Function : \"mean_squared_error\"\n",
        "*   List item    : Adam\n",
        "\n"
      ],
      "metadata": {
        "id": "jOxr6sS4g9pe"
      }
    },
    {
      "cell_type": "code",
      "source": [
        "model.compile(optimizer=tf.keras.optimizers.Adam(0.1),loss=\"mean_squared_error\")"
      ],
      "metadata": {
        "id": "AaI9yEqrHJ1t"
      },
      "execution_count": 36,
      "outputs": []
    },
    {
      "cell_type": "markdown",
      "source": [
        "##Training the Model"
      ],
      "metadata": {
        "id": "4duQL4rPhSaa"
      }
    },
    {
      "cell_type": "code",
      "source": [
        "history = model.fit(calcious,farenhite,epochs=500,verbose=0)\n"
      ],
      "metadata": {
        "id": "Q1XIz0rXIAQW"
      },
      "execution_count": 37,
      "outputs": []
    },
    {
      "cell_type": "markdown",
      "source": [
        "##Dispaly Training statistics"
      ],
      "metadata": {
        "id": "auFom10Nh7oe"
      }
    },
    {
      "cell_type": "code",
      "source": [
        "import matplotlib.pyplot as plt\n",
        "plt.plot(history.history[\"loss\"])\n",
        "plt.xlabel(\"epochs\")\n",
        "plt.ylabel(\"<loss\")"
      ],
      "metadata": {
        "colab": {
          "base_uri": "https://localhost:8080/",
          "height": 296
        },
        "id": "I9WCU4z8iGUJ",
        "outputId": "a4b3f193-ea0f-429b-e59b-570f682c93cb"
      },
      "execution_count": 38,
      "outputs": [
        {
          "output_type": "execute_result",
          "data": {
            "text/plain": [
              "Text(0, 0.5, '<loss')"
            ]
          },
          "metadata": {},
          "execution_count": 38
        },
        {
          "output_type": "display_data",
          "data": {
            "text/plain": [
              "<Figure size 432x288 with 1 Axes>"
            ],
            "image/png": "[encoded data removed]"
          },
          "metadata": {
            "needs_background": "light"
          }
        }
      ]
    },
    {
      "cell_type": "markdown",
      "source": [
        "##Predict the values using model"
      ],
      "metadata": {
        "id": "3boSwUwfjU9b"
      }
    },
    {
      "cell_type": "code",
      "source": [
        "model.predict([50])"
      ],
      "metadata": {
        "colab": {
          "base_uri": "https://localhost:8080/"
        },
        "id": "NkcxxfyTtJxk",
        "outputId": "fb41b0b9-f690-4ca2-e716-147c0faf3103"
      },
      "execution_count": 39,
      "outputs": [
        {
          "output_type": "execute_result",
          "data": {
            "text/plain": [
              "array([[120.27452]], dtype=float32)"
            ]
          },
          "metadata": {},
          "execution_count": 39
        }
      ]
    },
    {
      "cell_type": "markdown",
      "source": [
        "Actual formula is 50 x 1.8 + 32 = 122 . so our model is almost good"
      ],
      "metadata": {
        "id": "YS7ydY2djff9"
      }
    },
    {
      "cell_type": "markdown",
      "source": [
        "##Looking at layer weights:\n"
      ],
      "metadata": {
        "id": "qSTd-Y78ksiG"
      }
    },
    {
      "cell_type": "code",
      "source": [
        "model.get_weights()"
      ],
      "metadata": {
        "colab": {
          "base_uri": "https://localhost:8080/"
        },
        "id": "vFJED1sukyIF",
        "outputId": "8a1e8ca2-4a70-4703-b5e0-24caf5e39d87"
      },
      "execution_count": 40,
      "outputs": [
        {
          "output_type": "execute_result",
          "data": {
            "text/plain": [
              "[array([[1.8211863]], dtype=float32), array([29.215202], dtype=float32)]"
            ]
          },
          "metadata": {},
          "execution_count": 40
        }
      ]
    },
    {
      "cell_type": "markdown",
      "source": [
        "here are Two variables 1.8 = 1.8 in actual formula and 28.,,, aprox equal to 32."
      ],
      "metadata": {
        "id": "PR3fZv6rlCm0"
      }
    },
    {
      "cell_type": "markdown",
      "source": [
        "Now we can predict any type of temprature from celcsius to Fahrenheit."
      ],
      "metadata": {
        "id": "RYa1a6nxlbFt"
      }
    }
  ]
}